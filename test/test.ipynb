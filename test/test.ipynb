{
 "cells": [
  {
   "cell_type": "code",
   "execution_count": 1,
   "metadata": {},
   "outputs": [],
   "source": [
    "fuzzy_match_prompt = \"\"\"\n",
    "在地产销售问数场景中，销售人员可能会针对一个指标进行提问，可能会涉及到的指标有{all_indicators}。\n",
    "现在销售人员进行提问，请仔细分析问题，如果问题涉及到某个指标，请返回该指标名。如果提问涉及多个可能的指标，也只需要回答一个指标名即可。如果问题不涉及任何指标，不要强行匹配指标，请返回'无关指标'。\n",
    "请严格按照以下JSON格式响应：\n",
    "{{\n",
    "    'indicator': '选择的指标名或无关指标',\n",
    "}}\n",
    "示例：\n",
    "user:查询本月认购情况。\n",
    "assistant:\n",
    "{{\n",
    "    'indicator':'认购金额'\n",
    "}}\n",
    "user:这个月哪位业务员的业绩最好？\n",
    "assistant:\n",
    "{{\n",
    "    'indicator':'无关指标'\n",
    "}}\n",
    "现在销售人员提问：\n",
    "user:{user_question}\n",
    "要求只返回最终的json对象，不要包含其余内容。\n",
    "\"\"\""
   ]
  },
  {
   "cell_type": "code",
   "execution_count": 4,
   "metadata": {},
   "outputs": [],
   "source": [
    "ss = fuzzy_match_prompt.format(all_indicators=\"dasasdas\",user_question=\"你好\").strip()"
   ]
  },
  {
   "cell_type": "code",
   "execution_count": 6,
   "metadata": {},
   "outputs": [
    {
     "name": "stdout",
     "output_type": "stream",
     "text": [
      "无效的JSON格式\n"
     ]
    }
   ],
   "source": [
    "import json\n",
    "import re\n",
    "\n",
    "# 假设输出的字符串\n",
    "output = 'nihao{\\n    \"indicator\":\"首访客户数\"\\n}'\n",
    "\n",
    "# 使用正则提取JSON部分\n",
    "match = re.search(r'(\\{.*\\})', output)\n",
    "if match:\n",
    "    json_str = match.group(1)\n",
    "    data = json.loads(json_str)\n",
    "    indicator = data[\"indicator\"]\n",
    "    print(indicator)  # 输出: 首访客户数\n",
    "else:\n",
    "    print(\"无效的JSON格式\")"
   ]
  },
  {
   "cell_type": "code",
   "execution_count": null,
   "metadata": {},
   "outputs": [],
   "source": []
  }
 ],
 "metadata": {
  "kernelspec": {
   "display_name": "db_gpt",
   "language": "python",
   "name": "python3"
  },
  "language_info": {
   "codemirror_mode": {
    "name": "ipython",
    "version": 3
   },
   "file_extension": ".py",
   "mimetype": "text/x-python",
   "name": "python",
   "nbconvert_exporter": "python",
   "pygments_lexer": "ipython3",
   "version": "3.10.14"
  }
 },
 "nbformat": 4,
 "nbformat_minor": 2
}
