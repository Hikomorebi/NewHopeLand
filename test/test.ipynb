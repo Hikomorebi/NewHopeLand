{
 "cells": [
  {
   "cell_type": "code",
   "execution_count": null,
   "metadata": {},
   "outputs": [
    {
     "name": "stdout",
     "output_type": "stream",
     "text": [
      "ChatCompletionMessage(content='《善良之心：星星森林的秘密》\\n\\n很久很久以前，有个叫做朵拉的的小女孩，她住在一个小村庄里，那里有绿油油的草地和五彩斑斓的花朵。朵拉有一颗善良的心，她总是乐于助人，无论是照顾受伤的小鸟，还是帮助迷路的小兔子找到家。\\n\\n有一天，朵拉在森林里散步时，发现了一条隐藏的小径。她沿着小径走去，来到了一片她从未见过的地方——星星森林。那里的树木上挂满了闪闪发光的星星，就像夜空中最明亮的星星一样。\\n\\n在星星森林的中央，朵拉发现了一本巨大的书，书页在微风中轻轻翻动。她好奇地走过去，看到书页上写着：“只有善良的心才能揭开森林的秘密。”\\n\\n朵拉决定读一读这本书。当她翻开第一页时，书中的人物竟然动了起来，一个叫艾米的小精灵跳了出来。艾米解释说，星星森林的每一颗星星都代表一个人的善良之心，而森林的秘密就是保持善良的重要性。\\n\\n艾米告诉朵拉，森林中的星星正在慢慢消失，因为世界上有些孩子忘记了善良。为了拯救星星森林，朵拉必须通过三个考验，以证明善良的力量。\\n\\n第一个考验是“知识的种子”。朵拉需要回答三个问题，这些问题关于如何帮助朋友和同学学习。朵拉回想起了她帮助朋友们理解难题的经历，她给出了充满智慧和经验的答案。\\n\\n第二个考验是“勇气的火焰”。朵拉需要在黑暗中找到一条通往小火山的路，用勇气之火点燃一颗即将熄灭的星星。朵拉鼓起勇气，克服了恐惧，成功地完成了任务。\\n\\n最后一个考验是“爱的甘露”。朵拉需要找到一瓶能滋养树木的甘露，使它们开出代表善良的花朵。朵拉用她的关爱之心，收集了森林中小动物的微笑和村庄里人们的感激之情，制作出了爱的甘露。\\n\\n完成所有考验后，星星森林重新焕发了生机。艾米感激地对朵拉说：“谢谢你，朵拉。你的善良之心不仅救了森林，也提醒了所有孩子要永远保持善良。”\\n\\n朵拉带着满满的喜悦和智慧回到了村庄，她与大家分享了这段奇妙的旅程。从那以后，村庄里的孩子们都明白了善良的重要性，并激发了他们对学习、勇气和爱的渴望。\\n\\n这个故事告诉我们，无论何时何地，保持一颗善良的心都是最宝贵的财富。它不仅能带给我们快乐，还能激发我们的学习兴趣和想象力，让我们成为更好的人。', refusal=None, role='assistant', function_call=None, tool_calls=None)\n"
     ]
    }
   ],
   "source": [
    "from openai import OpenAI \n",
    "\n",
    "client = OpenAI(\n",
    "    api_key=\"09dca6001dd34c899267b60fb716085d.XVRP0859K188eyR0\",\n",
    "    base_url=\"https://open.bigmodel.cn/api/paas/v4/\"\n",
    ") \n",
    "\n",
    "completion = client.chat.completions.create(\n",
    "    model=\"glm-4\",  \n",
    "    messages=[    \n",
    "        {\"role\": \"system\", \"content\": \"你是一个人工智能助手\"},    \n",
    "        {\"role\": \"user\", \"content\": \"介绍一下你自己。\"} \n",
    "    ],\n",
    " ) \n",
    " \n",
    "print(completion.choices[0].message)\n"
   ]
  },
  {
   "cell_type": "code",
   "execution_count": null,
   "metadata": {},
   "outputs": [],
   "source": []
  }
 ],
 "metadata": {
  "kernelspec": {
   "display_name": "db_gpt",
   "language": "python",
   "name": "python3"
  },
  "language_info": {
   "codemirror_mode": {
    "name": "ipython",
    "version": 3
   },
   "file_extension": ".py",
   "mimetype": "text/x-python",
   "name": "python",
   "nbconvert_exporter": "python",
   "pygments_lexer": "ipython3",
   "version": "3.10.14"
  }
 },
 "nbformat": 4,
 "nbformat_minor": 2
}
