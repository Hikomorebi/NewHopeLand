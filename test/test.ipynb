{
 "cells": [
  {
   "cell_type": "code",
   "execution_count": 2,
   "metadata": {},
   "outputs": [
    {
     "name": "stdout",
     "output_type": "stream",
     "text": [
      "ChatCompletionMessage(content='是的，我是一个人工智能助手，基于先进的机器学习和自然语言处理技术。我的目的是为用户提供帮助和信息，解答问题，并在各种主题上提供支持。无论是日常查询、技术问题、学习资源还是娱乐信息，我都会尽力为您提供准确和有用的回答。如果您有任何问题或需要帮助，请随时告诉我！', refusal=None, role='assistant', function_call=None, tool_calls=None)\n"
     ]
    }
   ],
   "source": [
    "from openai import OpenAI \n",
    "\n",
    "client = OpenAI(\n",
    "    api_key=\"09dca6001dd34c899267b60fb716085d.XVRP0859K188eyR0\",\n",
    "    base_url=\"https://open.bigmodel.cn/api/paas/v4/\"\n",
    ") \n",
    "\n",
    "completion = client.chat.completions.create(\n",
    "    model=\"glm-4\",  \n",
    "    messages=[    \n",
    "        {\"role\": \"system\", \"content\": \"你是一个人工智能助手\"},    \n",
    "        {\"role\": \"user\", \"content\": \"介绍一下你自己。\"} \n",
    "    ],\n",
    " ) \n",
    " \n",
    "print(completion.choices[0].message)\n"
   ]
  },
  {
   "cell_type": "code",
   "execution_count": null,
   "metadata": {},
   "outputs": [],
   "source": []
  }
 ],
 "metadata": {
  "kernelspec": {
   "display_name": "db_gpt",
   "language": "python",
   "name": "python3"
  },
  "language_info": {
   "codemirror_mode": {
    "name": "ipython",
    "version": 3
   },
   "file_extension": ".py",
   "mimetype": "text/x-python",
   "name": "python",
   "nbconvert_exporter": "python",
   "pygments_lexer": "ipython3",
   "version": "3.10.14"
  }
 },
 "nbformat": 4,
 "nbformat_minor": 2
}
