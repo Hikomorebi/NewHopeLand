{
 "cells": [
  {
   "cell_type": "code",
   "execution_count": 1,
   "metadata": {},
   "outputs": [],
   "source": [
    "import psycopg2\n",
    "import pymysql\n",
    "import os\n",
    "import pandas as pd\n",
    "import json\n",
    "from datetime import date\n",
    "import re\n",
    "import traceback\n",
    "from decimal import Decimal, ROUND_HALF_UP\n",
    "from openai import OpenAI\n",
    "import Levenshtein  # 使用 Levenshtein 库来计算字符串距离\n",
    "import time\n",
    "from utils import get_translate_column_names,get_sql_results_json,default_converter"
   ]
  },
  {
   "cell_type": "code",
   "execution_count": 2,
   "metadata": {},
   "outputs": [],
   "source": [
    "connection = psycopg2.connect(\n",
    "    dbname=\"fdc_dc\",\n",
    "    user=\"dws_user_hwai\",\n",
    "    password=\"NewHope#1982@\",\n",
    "    host=\"124.70.57.67\",\n",
    "    port=\"8000\",\n",
    ")\n",
    "connection.set_client_encoding('UTF8')"
   ]
  },
  {
   "cell_type": "code",
   "execution_count": 3,
   "metadata": {},
   "outputs": [],
   "source": [
    "sql_query = \"SELECT * FROM fdc_dwd.dwd_trade_roomsign_a_min WHERE projname = '成都锦官阁' LIMIT 15;\""
   ]
  },
  {
   "cell_type": "code",
   "execution_count": 14,
   "metadata": {},
   "outputs": [
    {
     "name": "stdout",
     "output_type": "stream",
     "text": [
      "查询耗时1.6425514221191406秒\n"
     ]
    }
   ],
   "source": [
    "cursor = connection.cursor()\n",
    "start_time = time.time()\n",
    "cursor.execute(sql_query)\n",
    "\n",
    "results = cursor.fetchall()\n",
    "end_time = time.time()\n",
    "elapsed_time = end_time - start_time\n",
    "print(f\"查询耗时{elapsed_time}秒\")"
   ]
  },
  {
   "cell_type": "code",
   "execution_count": 17,
   "metadata": {},
   "outputs": [],
   "source": [
    "column_names = cursor.description"
   ]
  },
  {
   "cell_type": "code",
   "execution_count": 18,
   "metadata": {},
   "outputs": [
    {
     "data": {
      "text/plain": [
       "(Column(name='roomcode', type_code=1043),\n",
       " Column(name='roomname', type_code=1043),\n",
       " Column(name='roomfullnm', type_code=1043),\n",
       " Column(name='buildcode', type_code=1043),\n",
       " Column(name='buildname', type_code=1043),\n",
       " Column(name='buildfullnm', type_code=1043),\n",
       " Column(name='stagecode', type_code=1043),\n",
       " Column(name='stagename', type_code=1043),\n",
       " Column(name='projcode', type_code=1043),\n",
       " Column(name='projname', type_code=1043),\n",
       " Column(name='formatcode', type_code=1043),\n",
       " Column(name='formatfullnm', type_code=1043),\n",
       " Column(name='formatname', type_code=1043),\n",
       " Column(name='citycode', type_code=1043),\n",
       " Column(name='cityname', type_code=1043),\n",
       " Column(name='corpcompanycode', type_code=1043),\n",
       " Column(name='corpcompanyname', type_code=1043),\n",
       " Column(name='propertyconsultantid', type_code=1043),\n",
       " Column(name='propertyconsultant', type_code=1043),\n",
       " Column(name='contrcode', type_code=1043),\n",
       " Column(name='contract', type_code=1043),\n",
       " Column(name='saleslipcode', type_code=1043),\n",
       " Column(name='visitcode', type_code=1043),\n",
       " Column(name='subscrcode', type_code=1043),\n",
       " Column(name='custcode', type_code=1043),\n",
       " Column(name='custname', type_code=1043),\n",
       " Column(name='custtype', type_code=1043),\n",
       " Column(name='pricingmanner', type_code=1043),\n",
       " Column(name='topaymode', type_code=1043),\n",
       " Column(name='topaymodecate', type_code=1043),\n",
       " Column(name='contrputrecnum', type_code=1043),\n",
       " Column(name='signdate', type_code=1043),\n",
       " Column(name='subscrdate', type_code=1043),\n",
       " Column(name='netsigndate', type_code=1043),\n",
       " Column(name='putrecdate', type_code=1043),\n",
       " Column(name='contrstatus', type_code=1043),\n",
       " Column(name='areastatus', type_code=1043),\n",
       " Column(name='archarea', type_code=1700),\n",
       " Column(name='tnarea', type_code=1700),\n",
       " Column(name='archuprc', type_code=1700),\n",
       " Column(name='tnuprc', type_code=1700),\n",
       " Column(name='archbrgnuprc', type_code=1700),\n",
       " Column(name='tnbrgnuprc', type_code=1700),\n",
       " Column(name='contrtotalprice', type_code=1043),\n",
       " Column(name='decoratetopaymode', type_code=1043),\n",
       " Column(name='fitmentpriceiscontr', type_code=1043),\n",
       " Column(name='decoratestandard', type_code=1043),\n",
       " Column(name='decorateuprc', type_code=1700),\n",
       " Column(name='firstdecoraterenosum', type_code=1700),\n",
       " Column(name='decoratetotalprice', type_code=1700),\n",
       " Column(name='attafunds', type_code=1043),\n",
       " Column(name='type', type_code=1043),\n",
       " Column(name='mortgageloansum', type_code=1700),\n",
       " Column(name='mortgageyears', type_code=1043),\n",
       " Column(name='provfundbank', type_code=1043),\n",
       " Column(name='provfundloansum', type_code=1700),\n",
       " Column(name='provfundyears', type_code=1043),\n",
       " Column(name='discount', type_code=1043),\n",
       " Column(name='discountexplain', type_code=1043),\n",
       " Column(name='referrer', type_code=1043),\n",
       " Column(name='salesmanoacode', type_code=1043),\n",
       " Column(name='salesman', type_code=1043),\n",
       " Column(name='closedate', type_code=1043),\n",
       " Column(name='closereason', type_code=1043),\n",
       " Column(name='modifydate', type_code=1043),\n",
       " Column(name='custsource', type_code=1043),\n",
       " Column(name='issffq', type_code=1043),\n",
       " Column(name='signexecdate', type_code=1043),\n",
       " Column(name='actualbctotal', type_code=1700),\n",
       " Column(name='bcshdate', type_code=1043),\n",
       " Column(name='premprice', type_code=1043),\n",
       " Column(name='partitiondate', type_code=1114),\n",
       " Column(name='consultantids', type_code=1043),\n",
       " Column(name='standtotal', type_code=1700),\n",
       " Column(name='mortgagerecord', type_code=1043),\n",
       " Column(name='last_contrcode', type_code=1043),\n",
       " Column(name='mortgagebank', type_code=1043),\n",
       " Column(name='cashback', type_code=1700))"
      ]
     },
     "execution_count": 18,
     "metadata": {},
     "output_type": "execute_result"
    }
   ],
   "source": [
    "column_names"
   ]
  },
  {
   "cell_type": "code",
   "execution_count": null,
   "metadata": {},
   "outputs": [],
   "source": []
  },
  {
   "cell_type": "code",
   "execution_count": null,
   "metadata": {},
   "outputs": [],
   "source": [
    "cursor.close()"
   ]
  },
  {
   "cell_type": "code",
   "execution_count": null,
   "metadata": {},
   "outputs": [],
   "source": [
    "def dws_connect(sql_query):\n",
    "    dws_connect_dict = {}\n",
    "    connection = psycopg2.connect(\n",
    "        dbname=\"fdc_dc\",\n",
    "        user=\"dws_user_hwai\",\n",
    "        password=\"NewHope#1982@\",\n",
    "        host=\"124.70.57.67\",\n",
    "        port=\"8000\",\n",
    "    )\n",
    "    connection.set_client_encoding('UTF8')\n",
    "    print(\"连接成功\")\n",
    "\n",
    "    try:\n",
    "        with connection.cursor() as cursor:\n",
    "            start_time = time.time()\n",
    "            cursor.execute(sql_query)\n",
    "\n",
    "            results = cursor.fetchall()\n",
    "            end_time = time.time()\n",
    "            elapsed_time = end_time - start_time\n",
    "            print(f\"查询耗时{elapsed_time}秒\")\n",
    "            column_names = [desc[0] for desc in cursor.description]\n",
    "            # my_df = pd.read_sql(sql_query, connection)\n",
    "            # my_df.to_csv(\"data.csv\", index=False)\n",
    "\n",
    "            if len(results) > 100:\n",
    "                dws_connect_dict[\"is_long\"] = True\n",
    "                # sql_results = json.dumps(results[:50], ensure_ascii=False, default=default_converter)\n",
    "            else:\n",
    "                dws_connect_dict[\"is_long\"] = False\n",
    "                sql_results = json.dumps(\n",
    "                    results, ensure_ascii=False, default=default_converter\n",
    "                )\n",
    "                dws_connect_dict[\"sql_results\"] = sql_results\n",
    "            translate_column_names = get_translate_column_names(column_names)\n",
    "            sql_results_json = get_sql_results_json(translate_column_names, results)\n",
    "            dws_connect_dict[\"status\"] = 1\n",
    "            dws_connect_dict[\"sql_results_json\"] = sql_results_json\n",
    "    except Exception as e:\n",
    "        traceback.print_exc()\n",
    "        dws_connect_dict[\"status\"] = 0\n",
    "\n",
    "        error_message = str(e)\n",
    "        dws_connect_dict[\"error_message\"] = error_message\n",
    "        # 获取报错信息\n",
    "\n",
    "        print(f\"SQL 执行报错: {error_message}\")\n",
    "    finally:\n",
    "        connection.close()\n",
    "\n",
    "    return dws_connect_dict"
   ]
  }
 ],
 "metadata": {
  "kernelspec": {
   "display_name": "db_gpt",
   "language": "python",
   "name": "python3"
  },
  "language_info": {
   "codemirror_mode": {
    "name": "ipython",
    "version": 3
   },
   "file_extension": ".py",
   "mimetype": "text/x-python",
   "name": "python",
   "nbconvert_exporter": "python",
   "pygments_lexer": "ipython3",
   "version": "3.10.14"
  }
 },
 "nbformat": 4,
 "nbformat_minor": 2
}
